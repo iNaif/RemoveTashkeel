{
 "cells": [
  {
   "cell_type": "code",
   "execution_count": null,
   "metadata": {},
   "outputs": [],
   "source": [
    "import pandas as pd\n",
    "df=pd.read_excel('..', index_col=0,encoding='utf-8') \n",
    "df"
   ]
  },
  {
   "cell_type": "code",
   "execution_count": null,
   "metadata": {},
   "outputs": [],
   "source": [
    "#here install pyarabic\n",
    "!pip install pyarabic"
   ]
  },
  {
   "cell_type": "code",
   "execution_count": null,
   "metadata": {},
   "outputs": [],
   "source": [
    "import pyarabic.araby as ar"
   ]
  },
  {
   "cell_type": "code",
   "execution_count": null,
   "metadata": {},
   "outputs": [],
   "source": [
    "\n",
    "def remove_tashkeel(text_field):\n",
    "    text = ar.strip_tashkeel(text_field)\n",
    "    return text\n",
    "\n",
    "#Name the column to remove tahskeel from it\n",
    "df['..']= df['..'].apply(remove_tashkeel)"
   ]
  },
  {
   "cell_type": "code",
   "execution_count": null,
   "metadata": {},
   "outputs": [],
   "source": [
    "\n",
    "def remove_hamza(text_field):\n",
    "    text = ar.normalize_hamza(text_field)\n",
    "    return text\n",
    "\n",
    "#Name the column to remove hamza from it\n",
    "df['..']= df['..'].apply(remove_hamza)"
   ]
  },
  {
   "cell_type": "code",
   "execution_count": null,
   "metadata": {},
   "outputs": [],
   "source": [
    "import re\n",
    "\n",
    "def removechars(text_field):\n",
    "    text = re.sub(r\"[\\r\\n\\t\\x07\\x0b]\", \"\", text_field)\n",
    "    return text\n",
    "\n",
    "#Name the column to remove unnecessary signs from it\n",
    "df['..']= df['..'].apply(removechars)\n",
    "\n",
    "#:\\\"\\.\\#\\|\\,\\!\\(\\)\\،\\@"
   ]
  },
  {
   "cell_type": "code",
   "execution_count": null,
   "metadata": {},
   "outputs": [],
   "source": [
    "df"
   ]
  },
  {
   "cell_type": "code",
   "execution_count": null,
   "metadata": {},
   "outputs": [],
   "source": [
    "#save it in new file\n",
    "df.to_excel(\"..\")"
   ]
  }
 ],
 "metadata": {
  "kernelspec": {
   "display_name": "Python 3",
   "language": "python",
   "name": "python3"
  },
  "language_info": {
   "codemirror_mode": {
    "name": "ipython",
    "version": 3
   },
   "file_extension": ".py",
   "mimetype": "text/x-python",
   "name": "python",
   "nbconvert_exporter": "python",
   "pygments_lexer": "ipython3",
   "version": "3.7.3"
  }
 },
 "nbformat": 4,
 "nbformat_minor": 2
}
